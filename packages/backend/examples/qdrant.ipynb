{
 "cells": [
  {
   "cell_type": "markdown",
   "metadata": {},
   "source": [
    "# Qdrant Collection Visualization with Embedding Atlas\n",
    "\n",
    "This notebook connects to [Qdrant](https://qdrant.tech/), sets up a collection, scrolls through all data and visualizes it using Embedding Atlas.\n"
   ]
  },
  {
   "cell_type": "code",
   "execution_count": null,
   "metadata": {},
   "outputs": [],
   "source": [
    "%pip install qdrant_client embedding_atlas"
   ]
  },
  {
   "cell_type": "code",
   "execution_count": 2,
   "metadata": {},
   "outputs": [],
   "source": [
    "import pandas as pd\n",
    "import numpy as np\n",
    "from qdrant_client import QdrantClient\n",
    "from embedding_atlas.widget import EmbeddingAtlasWidget\n",
    "from typing import List, Dict, Any\n",
    "from tqdm import tqdm"
   ]
  },
  {
   "cell_type": "markdown",
   "metadata": {},
   "source": [
    "Run Qdrant with\n",
    "\n",
    "> docker run -p 6333:6333 qdrant/qdrant\n",
    "\n",
    "You can access the dashboard at http://localhost:6333/dashboard"
   ]
  },
  {
   "cell_type": "code",
   "execution_count": 1,
   "metadata": {},
   "outputs": [],
   "source": [
    "QDRANT_URL = \"http://localhost:6333\"\n",
    "COLLECTION_NAME = \"midlib\"\n",
    "SNAPSHOT = \"https://snapshots.qdrant.io/midlib.snapshot\""
   ]
  },
  {
   "cell_type": "code",
   "execution_count": null,
   "metadata": {},
   "outputs": [],
   "source": [
    "client = QdrantClient(url=QDRANT_URL)\n",
    "\n",
    "# Load the snapshot of collection that includes vectors of images from the midlibrary dataset\n",
    "if not client.collection_exists(COLLECTION_NAME):\n",
    "    client.recover_snapshot(\n",
    "        collection_name=COLLECTION_NAME,\n",
    "        location=SNAPSHOT,\n",
    "    )\n",
    "    print(f\"Collection {COLLECTION_NAME} restored\")\n",
    "else:\n",
    "    print(f\"Collection {COLLECTION_NAME} already exists\")\n",
    "\n",
    "collection_info = client.get_collection(COLLECTION_NAME)\n",
    "print(\n",
    "    f\"Vector size: {collection_info.config.params.vectors.size} | Total entries: {collection_info.points_count}\"\n",
    ")"
   ]
  },
  {
   "cell_type": "code",
   "execution_count": 41,
   "metadata": {},
   "outputs": [],
   "source": [
    "def scroll_all_points(\n",
    "    client: QdrantClient, collection_name: str, batch_size: int = 100\n",
    ") -> List[Dict[str, Any]]:\n",
    "    all_points = []\n",
    "    offset = None\n",
    "\n",
    "    print(\"Starting to scroll through collection...\")\n",
    "\n",
    "    with tqdm(desc=\"Fetching points\") as pbar:\n",
    "        while True:\n",
    "            points, next_offset = client.scroll(\n",
    "                collection_name=collection_name,\n",
    "                limit=batch_size,\n",
    "                offset=offset,\n",
    "                with_payload=True,\n",
    "                with_vectors=True,\n",
    "            )\n",
    "\n",
    "            if not points:\n",
    "                break\n",
    "\n",
    "            for point in points:\n",
    "                point_data = {\"id\": point.id, \"vector\": point.vector, **point.payload}\n",
    "                all_points.append(point_data)\n",
    "\n",
    "            pbar.update(len(points))\n",
    "\n",
    "            if next_offset is None:\n",
    "                break\n",
    "\n",
    "            offset = next_offset\n",
    "\n",
    "    print(f\"Successfully fetched {len(all_points)} points\")\n",
    "    return all_points"
   ]
  },
  {
   "cell_type": "code",
   "execution_count": 42,
   "metadata": {},
   "outputs": [
    {
     "name": "stdout",
     "output_type": "stream",
     "text": [
      "Starting to scroll through collection...\n"
     ]
    },
    {
     "name": "stderr",
     "output_type": "stream",
     "text": [
      "Fetching points: 5417it [00:00, 6166.13it/s]"
     ]
    },
    {
     "name": "stdout",
     "output_type": "stream",
     "text": [
      "Successfully fetched 5417 points\n"
     ]
    },
    {
     "name": "stderr",
     "output_type": "stream",
     "text": [
      "\n"
     ]
    }
   ],
   "source": [
    "BATCH_SIZE = 100\n",
    "points_data = scroll_all_points(client, COLLECTION_NAME, BATCH_SIZE)"
   ]
  },
  {
   "cell_type": "code",
   "execution_count": 43,
   "metadata": {},
   "outputs": [
    {
     "data": {
      "text/html": [
       "<div>\n",
       "<style scoped>\n",
       "    .dataframe tbody tr th:only-of-type {\n",
       "        vertical-align: middle;\n",
       "    }\n",
       "\n",
       "    .dataframe tbody tr th {\n",
       "        vertical-align: top;\n",
       "    }\n",
       "\n",
       "    .dataframe thead th {\n",
       "        text-align: right;\n",
       "    }\n",
       "</style>\n",
       "<table border=\"1\" class=\"dataframe\">\n",
       "  <thead>\n",
       "    <tr style=\"text-align: right;\">\n",
       "      <th></th>\n",
       "      <th>id</th>\n",
       "      <th>vector</th>\n",
       "      <th>file_name</th>\n",
       "      <th>image_url</th>\n",
       "      <th>name</th>\n",
       "      <th>url</th>\n",
       "    </tr>\n",
       "  </thead>\n",
       "  <tbody>\n",
       "    <tr>\n",
       "      <th>0</th>\n",
       "      <td>0</td>\n",
       "      <td>[0.056603346, -0.017431192, 0.022566801, -0.03...</td>\n",
       "      <td>662a3bac7847574f6a510569_Chris_Dyer_V6_p.jpeg</td>\n",
       "      <td>https://storage.googleapis.com/demo-midjourney...</td>\n",
       "      <td>Chris Dyer</td>\n",
       "      <td>/styles/chris-dyer</td>\n",
       "    </tr>\n",
       "    <tr>\n",
       "      <th>1</th>\n",
       "      <td>1</td>\n",
       "      <td>[0.043383807, -0.06374442, -0.013710048, -0.03...</td>\n",
       "      <td>662a30022c88ebf016f172a8_Catherine_Hyde_V6_p.jpeg</td>\n",
       "      <td>https://storage.googleapis.com/demo-midjourney...</td>\n",
       "      <td>Catherine Hyde</td>\n",
       "      <td>/styles/catherine-hyde</td>\n",
       "    </tr>\n",
       "    <tr>\n",
       "      <th>2</th>\n",
       "      <td>2</td>\n",
       "      <td>[-0.05074604, 0.040631093, 0.0011827358, 0.011...</td>\n",
       "      <td>662c577775a44fc22d66d4da_Xavier_Dolan_V6_p.jpeg</td>\n",
       "      <td>https://storage.googleapis.com/demo-midjourney...</td>\n",
       "      <td>Xavier Dolan</td>\n",
       "      <td>/styles/xavier-dolan</td>\n",
       "    </tr>\n",
       "    <tr>\n",
       "      <th>3</th>\n",
       "      <td>3</td>\n",
       "      <td>[0.07768102, -0.023939794, -0.013983787, -0.01...</td>\n",
       "      <td>662b5e881710bd3b3fcd94cd_Peter_Paul_Rubens_V6_...</td>\n",
       "      <td>https://storage.googleapis.com/demo-midjourney...</td>\n",
       "      <td>Peter Paul Rubens</td>\n",
       "      <td>/styles/peter-paul-rubens</td>\n",
       "    </tr>\n",
       "    <tr>\n",
       "      <th>4</th>\n",
       "      <td>4</td>\n",
       "      <td>[-0.019566944, -0.015979603, -0.009070171, -0....</td>\n",
       "      <td>662b95553c241a20a16f0374_Robert_Crumb_V6_p.jpeg</td>\n",
       "      <td>https://storage.googleapis.com/demo-midjourney...</td>\n",
       "      <td>Robert Crumb</td>\n",
       "      <td>/styles/robert-crumb</td>\n",
       "    </tr>\n",
       "  </tbody>\n",
       "</table>\n",
       "</div>"
      ],
      "text/plain": [
       "   id                                             vector  \\\n",
       "0   0  [0.056603346, -0.017431192, 0.022566801, -0.03...   \n",
       "1   1  [0.043383807, -0.06374442, -0.013710048, -0.03...   \n",
       "2   2  [-0.05074604, 0.040631093, 0.0011827358, 0.011...   \n",
       "3   3  [0.07768102, -0.023939794, -0.013983787, -0.01...   \n",
       "4   4  [-0.019566944, -0.015979603, -0.009070171, -0....   \n",
       "\n",
       "                                           file_name  \\\n",
       "0      662a3bac7847574f6a510569_Chris_Dyer_V6_p.jpeg   \n",
       "1  662a30022c88ebf016f172a8_Catherine_Hyde_V6_p.jpeg   \n",
       "2    662c577775a44fc22d66d4da_Xavier_Dolan_V6_p.jpeg   \n",
       "3  662b5e881710bd3b3fcd94cd_Peter_Paul_Rubens_V6_...   \n",
       "4    662b95553c241a20a16f0374_Robert_Crumb_V6_p.jpeg   \n",
       "\n",
       "                                           image_url               name  \\\n",
       "0  https://storage.googleapis.com/demo-midjourney...         Chris Dyer   \n",
       "1  https://storage.googleapis.com/demo-midjourney...     Catherine Hyde   \n",
       "2  https://storage.googleapis.com/demo-midjourney...       Xavier Dolan   \n",
       "3  https://storage.googleapis.com/demo-midjourney...  Peter Paul Rubens   \n",
       "4  https://storage.googleapis.com/demo-midjourney...       Robert Crumb   \n",
       "\n",
       "                         url  \n",
       "0         /styles/chris-dyer  \n",
       "1     /styles/catherine-hyde  \n",
       "2       /styles/xavier-dolan  \n",
       "3  /styles/peter-paul-rubens  \n",
       "4       /styles/robert-crumb  "
      ]
     },
     "execution_count": 43,
     "metadata": {},
     "output_type": "execute_result"
    }
   ],
   "source": [
    "df = pd.DataFrame(points_data)\n",
    "\n",
    "df.head()"
   ]
  },
  {
   "cell_type": "code",
   "execution_count": 44,
   "metadata": {},
   "outputs": [
    {
     "name": "stdout",
     "output_type": "stream",
     "text": [
      "Vector matrix shape: (5417, 512)\n",
      "Computing UMAP projection\n"
     ]
    },
    {
     "name": "stderr",
     "output_type": "stream",
     "text": [
      "/Users/anush/Desktop/embedding-atlas/packages/backend/.venv/lib/python3.11/site-packages/umap/umap_.py:1952: UserWarning: n_jobs value 1 overridden to 1 by setting random_state. Use no seed for parallelism.\n",
      "  warn(\n"
     ]
    },
    {
     "name": "stdout",
     "output_type": "stream",
     "text": [
      "2D projection completed\n"
     ]
    }
   ],
   "source": [
    "from umap import UMAP\n",
    "\n",
    "vectors = np.array(df[\"vector\"].tolist())\n",
    "print(f\"Vector matrix shape: {vectors.shape}\")\n",
    "\n",
    "# Apply UMAP for dimensionality reduction\n",
    "print(\"Computing UMAP projection\")\n",
    "umap_reducer = UMAP(n_neighbors=15, min_dist=0.1, metric=\"cosine\", random_state=42)\n",
    "\n",
    "embedding_2d = umap_reducer.fit_transform(vectors)\n",
    "\n",
    "df[\"projection_x\"] = embedding_2d[:, 0]\n",
    "df[\"projection_y\"] = embedding_2d[:, 1]\n",
    "\n",
    "print(\"2D projection completed\")"
   ]
  },
  {
   "cell_type": "code",
   "execution_count": null,
   "metadata": {},
   "outputs": [
    {
     "name": "stdout",
     "output_type": "stream",
     "text": [
      "Computing 10-nearest neighbors...\n"
     ]
    },
    {
     "name": "stderr",
     "output_type": "stream",
     "text": [
      "Processing neighbors: 100%|██████████| 5417/5417 [00:01<00:00, 2762.68it/s]"
     ]
    },
    {
     "name": "stdout",
     "output_type": "stream",
     "text": [
      "Nearest neighbors computed\n"
     ]
    },
    {
     "name": "stderr",
     "output_type": "stream",
     "text": [
      "\n"
     ]
    }
   ],
   "source": [
    "def compute_nearest_neighbors(vectors: np.ndarray, k: int = 10) -> List[Dict[str, Any]]:\n",
    "    from sklearn.metrics.pairwise import cosine_similarity\n",
    "\n",
    "    print(f\"Computing {k}-nearest neighbors...\")\n",
    "\n",
    "    similarity_matrix = cosine_similarity(vectors)\n",
    "\n",
    "    neighbors_list = []\n",
    "\n",
    "    for i in tqdm(range(len(vectors)), desc=\"Processing neighbors\"):\n",
    "        similarities = similarity_matrix[i]\n",
    "\n",
    "        neighbor_indices = np.argsort(similarities)[::-1][: k + 1]\n",
    "        neighbor_indices = neighbor_indices[neighbor_indices != i][:k]\n",
    "\n",
    "        neighbor_similarities = similarities[neighbor_indices]\n",
    "        neighbor_distances = 1 - neighbor_similarities\n",
    "\n",
    "        neighbors = {\n",
    "            \"ids\": neighbor_indices.tolist(),\n",
    "            \"distances\": neighbor_distances.tolist(),\n",
    "        }\n",
    "\n",
    "        neighbors_list.append(neighbors)\n",
    "\n",
    "    return neighbors_list\n",
    "\n",
    "\n",
    "neighbors = compute_nearest_neighbors(vectors, k=10)\n",
    "df[\"neighbors\"] = neighbors\n",
    "print(\"Nearest neighbors computed\")"
   ]
  },
  {
   "cell_type": "code",
   "execution_count": 50,
   "metadata": {},
   "outputs": [
    {
     "name": "stdout",
     "output_type": "stream",
     "text": [
      "Widget created!\n"
     ]
    }
   ],
   "source": [
    "w = EmbeddingAtlasWidget(\n",
    "    df,\n",
    "    x=\"projection_x\",\n",
    "    y=\"projection_y\",\n",
    "    row_id=\"id\",\n",
    "    text=\"name\",\n",
    "    neighbors=\"neighbors\",\n",
    ")\n",
    "print(\"Widget created!\")"
   ]
  },
  {
   "cell_type": "markdown",
   "metadata": {},
   "source": [
    "Let's take a look at our visualization!"
   ]
  },
  {
   "cell_type": "code",
   "execution_count": null,
   "metadata": {},
   "outputs": [],
   "source": [
    "w"
   ]
  }
 ],
 "metadata": {
  "kernelspec": {
   "display_name": "Python 3",
   "language": "python",
   "name": "python3"
  },
  "language_info": {
   "codemirror_mode": {
    "name": "ipython",
    "version": 3
   },
   "file_extension": ".py",
   "mimetype": "text/x-python",
   "name": "python",
   "nbconvert_exporter": "python",
   "pygments_lexer": "ipython3",
   "version": "3.11.10"
  }
 },
 "nbformat": 4,
 "nbformat_minor": 2
}
