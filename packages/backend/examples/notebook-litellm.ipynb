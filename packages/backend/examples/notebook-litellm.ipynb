{
 "cells": [
  {
   "cell_type": "code",
   "execution_count": null,
   "id": "8ce7f288-2d83-47ee-ac51-741126d4e3bd",
   "metadata": {},
   "outputs": [],
   "source": [
    "from embedding_atlas.widget import EmbeddingAtlasWidget\n",
    "from embedding_atlas.projection import compute_text_projection\n",
    "import pandas as pd\n",
    "from datasets import load_dataset"
   ]
  },
  {
   "cell_type": "code",
   "execution_count": null,
   "id": "69f21f68-c20e-4055-b073-5ab6c8f89913",
   "metadata": {},
   "outputs": [],
   "source": [
    "# Load a dataset\n",
    "ds = load_dataset(\"james-burton/wine_reviews\", split=\"validation\")\n",
    "df = pd.DataFrame(ds)"
   ]
  },
  {
   "cell_type": "markdown",
   "id": "ba689886",
   "metadata": {},
   "source": [
    "## Computing Embeddings with Models Served by Ollama"
   ]
  },
  {
   "cell_type": "markdown",
   "id": "94dfa2c1",
   "metadata": {},
   "source": [
    "To run this example please make sure to install [Ollama](https://ollama.com/download) first and run the following command to download the [nomic-embed-text](https://ollama.com/library/nomic-embed-text) model:\n",
    "\n",
    "```bash\n",
    "ollama pull nomic-embed-text\n",
    "```"
   ]
  },
  {
   "cell_type": "markdown",
   "id": "09b5f1c2",
   "metadata": {},
   "source": [
    "Based on your machine's configuration, embedding all text items may take some time. For reference, on a 36 GB M3 Max MacBook Pro, executing the cell below takes ~90 seconds."
   ]
  },
  {
   "cell_type": "code",
   "execution_count": null,
   "id": "2a927e7d-8dda-4d6b-ae88-60cceb6f9678",
   "metadata": {},
   "outputs": [],
   "source": [
    "# Compute text embedding and projection of the embedding using Ollama server\n",
    "compute_text_projection(\n",
    "    df,\n",
    "    text=\"country\",\n",
    "    x=\"projection_x\",\n",
    "    y=\"projection_y\",\n",
    "    neighbors=\"neighbors\",\n",
    "    text_projector=\"litellm\",\n",
    "    api_base_url=\"http://localhost:11434\",\n",
    "    model=\"ollama/nomic-embed-text\",\n",
    "    batch_size=512,\n",
    "    sync=True,\n",
    "    lol=10\n",
    ")"
   ]
  },
  {
   "cell_type": "code",
   "execution_count": null,
   "id": "a82b7b13-2024-4ff9-b96d-8b21048ca2cf",
   "metadata": {},
   "outputs": [],
   "source": [
    "# Display the dataset with the Embedding Atlas widget\n",
    "w = EmbeddingAtlasWidget(df, text=\"description\", x=\"projection_x\", y=\"projection_y\", neighbors=\"neighbors\")\n",
    "w"
   ]
  },
  {
   "cell_type": "code",
   "execution_count": null,
   "id": "e42251b5-0e9f-4191-81fd-64522118f1cd",
   "metadata": {},
   "outputs": [],
   "source": [
    "# Get the selection from the widget as a dataframe\n",
    "w.selection()"
   ]
  },
  {
   "cell_type": "markdown",
   "id": "3f9e4a1d",
   "metadata": {},
   "source": [
    "## Computing Embeddings with Models Served by OpenAI"
   ]
  },
  {
   "cell_type": "code",
   "execution_count": null,
   "id": "6347e807",
   "metadata": {},
   "outputs": [],
   "source": [
    "# When running embedding batches asynchronously in a notebook, we need to patch the event loop\n",
    "!uv pip install nest-asyncio -q\n",
    "import nest_asyncio\n",
    "\n",
    "nest_asyncio.apply()"
   ]
  },
  {
   "cell_type": "code",
   "execution_count": null,
   "id": "a101aaf7",
   "metadata": {},
   "outputs": [],
   "source": [
    "# Compute text embedding and projection of the embedding using Ollama server\n",
    "compute_text_projection(\n",
    "    df,\n",
    "    text=\"description\",\n",
    "    x=\"projection_x\",\n",
    "    y=\"projection_y\",\n",
    "    neighbors=\"neighbors\",\n",
    "    text_projector=\"litellm\",\n",
    "    # Your OpenAI API key. You can omit this and set the OPENAI_API_KEY environment variable instead.\n",
    "    api_key=\"sk-xxx\",\n",
    "    model=\"openai/text-embedding-3-small\",\n",
    "    # OpenAI's limit is 300K input token per request\n",
    "    batch_size=1024,\n",
    "    # Since calling an API is IO-bound, we can benefit from async processing\n",
    "    sync=False,\n",
    ")"
   ]
  },
  {
   "cell_type": "code",
   "execution_count": null,
   "id": "19005d68",
   "metadata": {},
   "outputs": [],
   "source": [
    "# Display the dataset with the Embedding Atlas widget using OpenAI embeddings\n",
    "w2 = EmbeddingAtlasWidget(df, text=\"description\", x=\"projection_x\", y=\"projection_y\", neighbors=\"neighbors\")\n",
    "w2"
   ]
  }
 ],
 "metadata": {
  "kernelspec": {
   "display_name": "embedding-atlas",
   "language": "python",
   "name": "python3"
  },
  "language_info": {
   "codemirror_mode": {
    "name": "ipython",
    "version": 3
   },
   "file_extension": ".py",
   "mimetype": "text/x-python",
   "name": "python",
   "nbconvert_exporter": "python",
   "pygments_lexer": "ipython3",
   "version": "3.12.7"
  }
 },
 "nbformat": 4,
 "nbformat_minor": 5
}
